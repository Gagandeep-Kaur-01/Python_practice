{
 "cells": [
  {
   "cell_type": "code",
   "execution_count": 5,
   "metadata": {},
   "outputs": [
    {
     "name": "stdout",
     "output_type": "stream",
     "text": [
      "list : [0, 1, 2, 3, 4, 5, 6, 7, 8, 9]\n",
      "0\n",
      "2\n",
      "4\n",
      "6\n",
      "8\n",
      "------------------Another way------------------------\n",
      "8\n",
      "2\n",
      "0\n",
      "12\n"
     ]
    }
   ],
   "source": [
    "\"\"\"Activity\n",
    "Write some code that creates a list of integers, \n",
    "loops through each element of the list, \n",
    "and only prints out even numbers!\"\"\"\n",
    "\n",
    "# Ist way\n",
    "\n",
    "list = [0,1,2,3,4,5,6,7,8,9]\n",
    "print('list :', list)\n",
    "for list in range(10):\n",
    "    if (list % 2 == 0):\n",
    "        print(list)\n",
    "        \n",
    "        \n",
    "# 2nd way\n",
    "\n",
    "print('------------------Another way------------------------')\n",
    "mylist = [1,3,8,3,2,9,0,12]\n",
    "for number in mylist:\n",
    "    if number %2 is 0:\n",
    "        print(number)"
   ]
  },
  {
   "cell_type": "code",
   "execution_count": null,
   "metadata": {},
   "outputs": [],
   "source": []
  }
 ],
 "metadata": {
  "kernelspec": {
   "display_name": "Python 3",
   "language": "python",
   "name": "python3"
  },
  "language_info": {
   "codemirror_mode": {
    "name": "ipython",
    "version": 3
   },
   "file_extension": ".py",
   "mimetype": "text/x-python",
   "name": "python",
   "nbconvert_exporter": "python",
   "pygments_lexer": "ipython3",
   "version": "3.7.3"
  }
 },
 "nbformat": 4,
 "nbformat_minor": 2
}
