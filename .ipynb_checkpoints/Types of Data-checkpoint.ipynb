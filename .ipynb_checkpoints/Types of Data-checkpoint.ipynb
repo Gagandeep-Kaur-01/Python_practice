{
 "cells": [
  {
   "cell_type": "code",
   "execution_count": null,
   "metadata": {},
   "outputs": [],
   "source": [
    "\"\"\"Major Types of Data\n",
    "> Numerical: \n",
    "represents some sort of quantitative measurement.\n",
    "data can be continuous (has an infinite no. of possible values) or discrete (integer based; often counts of some event)\n",
    "Eg: heights of people, page load times, stock prices, etc.\n",
    "\n",
    "> Categorical:\n",
    "Qualitative data that has no inherent mathematical meaning.\n",
    "Eg: Gender, Yes/no (binary data), race, state of residence, product category, political party, etc.\n",
    "\n",
    "> Ordinal: \n",
    "A mixture of numerical and categorical.\n",
    "Categotical data that has mathematical meaning.\n",
    "Eg: movie rating on a 1-5 scale.\n",
    "Rating must be 1,2,3,4,or 5\n",
    "But, these values have mathematical meaning; 1 means it's worse movie than 2\n",
    ":Data where the different categoriesactually have a numerical relationshi to each other."
   ]
  }
 ],
 "metadata": {
  "kernelspec": {
   "display_name": "Python 3",
   "language": "python",
   "name": "python3"
  },
  "language_info": {
   "codemirror_mode": {
    "name": "ipython",
    "version": 3
   },
   "file_extension": ".py",
   "mimetype": "text/x-python",
   "name": "python",
   "nbconvert_exporter": "python",
   "pygments_lexer": "ipython3",
   "version": "3.7.3"
  }
 },
 "nbformat": 4,
 "nbformat_minor": 2
}
