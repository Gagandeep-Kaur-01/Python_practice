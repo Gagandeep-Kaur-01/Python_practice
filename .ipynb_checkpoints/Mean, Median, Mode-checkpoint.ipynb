{
 "cells": [
  {
   "cell_type": "code",
   "execution_count": 1,
   "metadata": {},
   "outputs": [
    {
     "data": {
      "text/plain": [
       "'\\nMean\\n> AKA Average\\n>Sum/ Number of samples\\n> Example: no. of children in each house on my street:\\n0,2,3,2,1,0,0,2,0\\nMean is (0+2+3+2+1+0+0+2+0)/9 = 1.11\\n\\nMedian\\n>Sort the values, and take the value at the midpoint\\n>Example: 0,2,3,2,1,0,0,2,0\\n           sort it:\\n           0,0,0,0,1,2,2,2,3 : if odd number series, middle is odd\\n    If an even no. off samples, take the average of the two in the middle.\\n    \\nMode\\n>The most common value in a data set \\n  :Not relevant to continuous numerical data\\n> Example: 0,2,3,2,1,0,0,2,0\\n0:4, 1:1, 2:3, 3:1\\nThe Mode is 0, which occurs most frequently\\n'"
      ]
     },
     "execution_count": 1,
     "metadata": {},
     "output_type": "execute_result"
    }
   ],
   "source": [
    "\"\"\"\n",
    "Mean\n",
    "> AKA Average\n",
    ">Sum/ Number of samples\n",
    "> Example: no. of children in each house on my street:\n",
    "0,2,3,2,1,0,0,2,0\n",
    "Mean is (0+2+3+2+1+0+0+2+0)/9 = 1.11\n",
    "\n",
    "Median\n",
    ">Sort the values, and take the value at the midpoint\n",
    ">Example: 0,2,3,2,1,0,0,2,0\n",
    "           sort it:\n",
    "           0,0,0,0,1,2,2,2,3 : if odd number series, middle is odd\n",
    "    If an even no. off samples, take the average of the two in the middle.\n",
    "    \n",
    "Mode\n",
    ">The most common value in a data set \n",
    "  :Not relevant to continuous numerical data\n",
    "> Example: 0,2,3,2,1,0,0,2,0\n",
    "0:4, 1:1, 2:3, 3:1\n",
    "The Mode is 0, which occurs most frequently\n",
    "\"\"\""
   ]
  },
  {
   "cell_type": "code",
   "execution_count": 3,
   "metadata": {},
   "outputs": [
    {
     "data": {
      "text/plain": [
       "27047.353859058334"
      ]
     },
     "execution_count": 3,
     "metadata": {},
     "output_type": "execute_result"
    }
   ],
   "source": [
    "\"\"\"Mean vs. Median\n",
    "Let's create some fake income data, centered around 27,000 with a normal distribution and standard deviation of 15,000, with 10,000 data points. (We'll discuss those terms more later, if you're not familiar with them.)\n",
    "\n",
    "Then, compute the mean (average) - it should be close to 27,000\"\"\"\n",
    "\n",
    "import numpy as np \n",
    "# This allows ius to refer to the numpy package as just np which just saves us some typimg.\n",
    "income = np.random.normal(27000, 15000, 10000)\n",
    "# the numpy package includes a function called random.normal\n",
    "# random distribution, it creates a bell curve distribution of data around a certain point\n",
    "# in this case 27,000$ with a standard deviation of 15,000$. \n",
    "# And we want 10,000 data points in this dataset.\n",
    "np.mean(income)"
   ]
  },
  {
   "cell_type": "code",
   "execution_count": 8,
   "metadata": {},
   "outputs": [
    {
     "data": {
      "image/png": "[encoded data removed]",
      "text/plain": [
       "<Figure size 432x288 with 1 Axes>"
      ]
     },
     "metadata": {
      "needs_background": "light"
     },
     "output_type": "display_data"
    }
   ],
   "source": [
    "%matplotlib inline \n",
    "# package called matplotlib, allows us to create really simple graphs here in line and to actually display these graphs\n",
    "# within the notebook file itself.\n",
    "import matplotlib.pyplot as plt\n",
    "#with that out of the way through we can import the actual matplotlib package itself specifically Pyplot part of it.\n",
    "plt.hist(income, 50) # to create histogram of our income data set\n",
    "# we're going to pass in the number 50 meaning that we want this split up into 50 different buckets.\n",
    "# So, we are going to quantize our data set inton50 discrete buckets of data.\n",
    "plt.show() # to show it."
   ]
  },
  {
   "cell_type": "code",
   "execution_count": 10,
   "metadata": {},
   "outputs": [
    {
     "data": {
      "text/plain": [
       "26809.72339612781"
      ]
     },
     "execution_count": 10,
     "metadata": {},
     "output_type": "execute_result"
    }
   ],
   "source": [
    "np.median(income) # calculate median"
   ]
  },
  {
   "cell_type": "code",
   "execution_count": 12,
   "metadata": {},
   "outputs": [],
   "source": [
    "income = np.append(income, [1000000000])\n",
    "#np.append to just append one extra value to the income list and it will contain a single value one billion."
   ]
  },
  {
   "cell_type": "code",
   "execution_count": 13,
   "metadata": {},
   "outputs": [
    {
     "data": {
      "text/plain": [
       "26811.40430051226"
      ]
     },
     "execution_count": 13,
     "metadata": {},
     "output_type": "execute_result"
    }
   ],
   "source": [
    "np.median(income)"
   ]
  },
  {
   "cell_type": "code",
   "execution_count": 14,
   "metadata": {},
   "outputs": [
    {
     "data": {
      "text/plain": [
       "227001.95346836466"
      ]
     },
     "execution_count": 14,
     "metadata": {},
     "output_type": "execute_result"
    }
   ],
   "source": [
    "# The median won't change much, but the mean does:\n",
    "np.mean(income)"
   ]
  },
  {
   "cell_type": "code",
   "execution_count": 15,
   "metadata": {},
   "outputs": [
    {
     "data": {
      "text/plain": [
       "27015.1627707156"
      ]
     },
     "execution_count": 15,
     "metadata": {},
     "output_type": "execute_result"
    }
   ],
   "source": [
    "import numpy as np \n",
    "\n",
    "income = np.random.normal(27000, 15000, 10000)\n",
    "np.mean(income)"
   ]
  },
  {
   "cell_type": "code",
   "execution_count": 16,
   "metadata": {},
   "outputs": [],
   "source": [
    "income = np.append(income, [1000000000])"
   ]
  },
  {
   "cell_type": "code",
   "execution_count": 17,
   "metadata": {},
   "outputs": [
    {
     "data": {
      "text/plain": [
       "127002.46252446315"
      ]
     },
     "execution_count": 17,
     "metadata": {},
     "output_type": "execute_result"
    }
   ],
   "source": [
    "np.mean(income)"
   ]
  },
  {
   "cell_type": "code",
   "execution_count": 18,
   "metadata": {},
   "outputs": [
    {
     "data": {
      "text/plain": [
       "27083.7020226252"
      ]
     },
     "execution_count": 18,
     "metadata": {},
     "output_type": "execute_result"
    }
   ],
   "source": [
    "np.median(income)"
   ]
  },
  {
   "cell_type": "code",
   "execution_count": 19,
   "metadata": {},
   "outputs": [
    {
     "data": {
      "text/plain": [
       "\"\\nlet's generate some fake age data for 500 people: \""
      ]
     },
     "execution_count": 19,
     "metadata": {},
     "output_type": "execute_result"
    }
   ],
   "source": [
    "\"\"\"\n",
    "let's generate some fake age data for 500 people: \"\"\""
   ]
  },
  {
   "cell_type": "code",
   "execution_count": 25,
   "metadata": {},
   "outputs": [
    {
     "data": {
      "text/plain": [
       "array([41, 66, 51, 74, 33, 19, 23, 78, 62, 32, 70, 53, 62, 88, 75, 24, 27,\n",
       "       48, 40, 22, 59, 53, 74, 23, 42, 20, 29, 21, 39, 57, 62, 24, 86, 69,\n",
       "       36, 76, 48, 47, 47, 44, 24, 30, 29, 34, 85, 63, 57, 24, 88, 56, 83,\n",
       "       55, 62, 25, 55, 79, 74, 54, 22, 28, 43, 61, 55, 78, 80, 61, 40, 19,\n",
       "       53, 58, 26, 79, 20, 34, 54, 71, 64, 65, 38, 29, 56, 60, 57, 46, 29,\n",
       "       62, 38, 67, 75, 46, 23, 32, 86, 27, 32, 36, 80, 38, 57, 19, 73, 32,\n",
       "       43, 79, 53, 32, 57, 53, 76, 88, 47, 34, 27, 24, 25, 19, 19, 70, 23,\n",
       "       26, 68, 38, 18, 26, 68, 51, 88, 79, 59, 87, 55, 52, 85, 20, 40, 50,\n",
       "       86, 52, 63, 89, 70, 77, 82, 52, 48, 30, 78, 68, 56, 31, 29, 18, 34,\n",
       "       77, 56, 21, 61, 60, 60, 20, 50, 86, 72, 38, 52, 51, 42, 63, 38, 25,\n",
       "       38, 27, 28, 59, 82, 80, 45, 35, 60, 34, 61, 31, 64, 57, 76, 43, 20,\n",
       "       58, 21, 21, 80, 73, 62, 88, 44, 64, 50, 85, 37, 32, 47, 50, 84, 79,\n",
       "       57, 40, 31, 29, 24, 32, 36, 69, 58, 60, 69, 43, 81, 26, 84, 21, 69,\n",
       "       49, 85, 43, 32, 88, 28, 59, 62, 27, 46, 59, 29, 67, 81, 47, 84, 24,\n",
       "       37, 33, 51, 73, 56, 45, 54, 22, 69, 22, 33, 60, 76, 20, 80, 28, 54,\n",
       "       63, 35, 44, 63, 84, 83, 68, 82, 65, 37, 44, 72, 68, 18, 72, 41, 21,\n",
       "       88, 77, 63, 76, 80, 41, 59, 38, 70, 40, 85, 24, 36, 30, 72, 29, 26,\n",
       "       52, 40, 18, 29, 67, 60, 45, 54, 24, 77, 65, 82, 39, 62, 70, 63, 21,\n",
       "       45, 61, 57, 54, 28, 45, 53, 24, 20, 88, 22, 82, 40, 36, 59, 86, 59,\n",
       "       69, 68, 83, 20, 80, 25, 33, 24, 41, 23, 33, 18, 51, 43, 50, 58, 88,\n",
       "       84, 56, 57, 33, 21, 78, 33, 84, 35, 86, 31, 76, 57, 73, 69, 69, 86,\n",
       "       77, 62, 51, 34, 44, 74, 74, 86, 29, 87, 20, 87, 66, 30, 78, 88, 65,\n",
       "       84, 38, 23, 60, 86, 71, 51, 69, 36, 59, 80, 54, 62, 68, 41, 67, 60,\n",
       "       35, 76, 52, 58, 36, 42, 44, 20, 47, 82, 77, 54, 54, 70, 63, 70, 26,\n",
       "       22, 57, 68, 83, 40, 25, 78, 29, 69, 40, 71, 52, 82, 82, 65, 57, 51,\n",
       "       48, 42, 89, 37, 80, 45, 84, 66, 77, 88, 84, 61, 53, 82, 76, 19, 76,\n",
       "       89, 89, 38, 55, 28, 44, 20, 65, 72, 22, 41, 22, 86, 18, 75, 66, 78,\n",
       "       67, 82, 49, 77, 48, 80, 29, 31, 87, 44, 50, 70, 18, 37, 76, 27, 42,\n",
       "       33, 34, 39, 54, 48, 63, 36, 43, 29, 49, 49, 20, 43, 54, 19, 45, 38,\n",
       "       45, 42, 79, 54, 46, 45, 48])"
      ]
     },
     "execution_count": 25,
     "metadata": {},
     "output_type": "execute_result"
    }
   ],
   "source": [
    "ages = np.random.randint(18, high=90, size=500)\n",
    "ages\n",
    "# This is random & different result every time."
   ]
  },
  {
   "cell_type": "code",
   "execution_count": 24,
   "metadata": {},
   "outputs": [
    {
     "data": {
      "text/plain": [
       "\" To call np.random.randint to have an even distribution of between 18 and 90 years for 500 people.\\nAnd we'll just type in ages which allows us to visualise that array in line here. \""
      ]
     },
     "execution_count": 24,
     "metadata": {},
     "output_type": "execute_result"
    }
   ],
   "source": [
    "\"\"\" To call np.random.randint to have an even distribution of between 18 and 90 years for 500 people.\n",
    "And we'll just type in ages which allows us to visualise that array in line here. \"\"\""
   ]
  },
  {
   "cell_type": "code",
   "execution_count": 26,
   "metadata": {},
   "outputs": [
    {
     "data": {
      "text/plain": [
       "ModeResult(mode=array([29]), count=array([13]))"
      ]
     },
     "execution_count": 26,
     "metadata": {},
     "output_type": "execute_result"
    }
   ],
   "source": [
    "\"\"\" To compute the mode again that's just the value that appears most often in this dataset.\n",
    "Use Scipy package and its stats module.\n",
    "It's just another way of importing it. \"\"\"\n",
    "\n",
    "from scipy import stats\n",
    "stats.mode(ages)"
   ]
  },
  {
   "cell_type": "code",
   "execution_count": null,
   "metadata": {},
   "outputs": [],
   "source": []
  }
 ],
 "metadata": {
  "kernelspec": {
   "display_name": "Python 3",
   "language": "python",
   "name": "python3"
  },
  "language_info": {
   "codemirror_mode": {
    "name": "ipython",
    "version": 3
   },
   "file_extension": ".py",
   "mimetype": "text/x-python",
   "name": "python",
   "nbconvert_exporter": "python",
   "pygments_lexer": "ipython3",
   "version": "3.7.3"
  }
 },
 "nbformat": 4,
 "nbformat_minor": 2
}
