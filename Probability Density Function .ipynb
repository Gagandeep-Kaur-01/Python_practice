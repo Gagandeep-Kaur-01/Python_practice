{
 "cells": [
  {
   "cell_type": "code",
   "execution_count": null,
   "metadata": {},
   "outputs": [],
   "source": [
    "\"\"\"Probability Distribution function gives the probability of a data point\n",
    "falling within some given range of a given value.\n",
    "And a normal function is just one example of probability density function.\n",
    "\n",
    "Probability mass function is the way that we visualise the probability of discrete data occuring.\n",
    "It looks like histogram, because it is basically a histogram.\n",
    "\n",
    "So, terminology difference, \n",
    "Probability density function, a solid curve that describes the probbility\n",
    "of a range of values happening with continuous data.\n",
    "Probability mass function is the probabilities of given discrete values occuring in a dat set.\n"
   ]
  }
 ],
 "metadata": {
  "kernelspec": {
   "display_name": "Python 3",
   "language": "python",
   "name": "python3"
  },
  "language_info": {
   "codemirror_mode": {
    "name": "ipython",
    "version": 3
   },
   "file_extension": ".py",
   "mimetype": "text/x-python",
   "name": "python",
   "nbconvert_exporter": "python",
   "pygments_lexer": "ipython3",
   "version": "3.7.3"
  }
 },
 "nbformat": 4,
 "nbformat_minor": 2
}
