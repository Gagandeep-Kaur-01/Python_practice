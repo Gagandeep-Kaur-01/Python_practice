{
 "cells": [
  {
   "cell_type": "code",
   "execution_count": 1,
   "metadata": {},
   "outputs": [
    {
     "data": {
      "text/plain": [
       "' These are two fundamental quantities for a data distribution. These are all about spread of data,\\nthe shape of the distribution of a data set.\\n\\nVariance is simply the average of the squared differences from the mean.\\nEg: variance of the data set: 1,4,5,4,8\\n>first find the mean: (1+4+5+4+8)/5 = 4.4\\n>Now, differences from the mean: (-3.4, -0.4, -0.6, -0.4, 3.6) i.e. (1-4.4, 4-4.4, 5-4.4, 4-4.4, 8-4.4)\\n>Find squared differences: (11.56, 0.16, 0.36, 0.16, 12.96)\\nvariance = (11.56 + 0.16 + 0.36 + 0.16 + 12.96)/5= 25.2/5 = 5.04\\n\\nStandard Deviation is just the square root of the variance.\\nvariance = 5.04\\nstandard deviation = square root of 5.04 = 2.24.\\nSo, standard deviation of (1,4,5,4,8) is 2.24.\\n\\nThis is usually used as a way to identify outliers.\\nData points that lie more than one standard deviation from the mean can be considered unusual.\\n\\nPopulation vs. Sample\\n>if working with a sample of data instead of an entire data set (te entire population)\\nthen want to use \"sample variance\" instead of \"population variance\".\\n(Sampling of data: taking some subset of the data, just to make computing easier)\\nFor N samples, divide the squared variances by N-1 instead of N.\\n>Eg: Population variance is: (11.56 + 0.16 + 0.36 + 0.16 + 12.96)/5= 25.2/5 = 5.04\\nBut, the sample variance would be:\\nSample variance is:(11.56 + 0.16 + 0.36 + 0.16 + 12.96)/ 4 = 6.3.\\n\\nFancy Math:\\nPopulation variance is usually designated as sigma squared, where sigma is standard deviation \\nand it is the summation of each data point X, minus the mean, mu, squared,thats\\'s the variance of each sample squared over N\\nthe number of data points.\\nSample variance  is designated as S squared, and it is the summation of each data point minus the mean, M, of the sample set squared\\nover N minus one '"
      ]
     },
     "execution_count": 1,
     "metadata": {},
     "output_type": "execute_result"
    }
   ],
   "source": [
    "\"\"\" These are two fundamental quantities for a data distribution. These are all about spread of data,\n",
    "the shape of the distribution of a data set.\n",
    "\n",
    "Variance is simply the average of the squared differences from the mean.\n",
    "Eg: variance of the data set: 1,4,5,4,8\n",
    ">first find the mean: (1+4+5+4+8)/5 = 4.4\n",
    ">Now, differences from the mean: (-3.4, -0.4, -0.6, -0.4, 3.6) i.e. (1-4.4, 4-4.4, 5-4.4, 4-4.4, 8-4.4)\n",
    ">Find squared differences: (11.56, 0.16, 0.36, 0.16, 12.96)\n",
    "variance = (11.56 + 0.16 + 0.36 + 0.16 + 12.96)/5= 25.2/5 = 5.04\n",
    "\n",
    "Standard Deviation is just the square root of the variance.\n",
    "variance = 5.04\n",
    "standard deviation = square root of 5.04 = 2.24.\n",
    "So, standard deviation of (1,4,5,4,8) is 2.24.\n",
    "\n",
    "This is usually used as a way to identify outliers.\n",
    "Data points that lie more than one standard deviation from the mean can be considered unusual.\n",
    "\n",
    "Population vs. Sample\n",
    ">if working with a sample of data instead of an entire data set (te entire population)\n",
    "then want to use \"sample variance\" instead of \"population variance\".\n",
    "(Sampling of data: taking some subset of the data, just to make computing easier)\n",
    "For N samples, divide the squared variances by N-1 instead of N.\n",
    ">Eg: Population variance is: (11.56 + 0.16 + 0.36 + 0.16 + 12.96)/5= 25.2/5 = 5.04\n",
    "But, the sample variance would be:\n",
    "Sample variance is:(11.56 + 0.16 + 0.36 + 0.16 + 12.96)/ 4 = 6.3.\n",
    "\n",
    "Fancy Math:\n",
    "Population variance is usually designated as sigma squared, where sigma is standard deviation \n",
    "and it is the summation of each data point X, minus the mean, mu, squared,thats's the variance of each sample squared over N\n",
    "the number of data points.\n",
    "Sample variance  is designated as S squared, and it is the summation of each data point minus the mean, M, of the sample set squared\n",
    "over N minus one \"\"\""
   ]
  },
  {
   "cell_type": "code",
   "execution_count": 4,
   "metadata": {},
   "outputs": [
    {
     "data": {
      "image/png": "[encoded data removed]",
      "text/plain": [
       "<Figure size 432x288 with 1 Axes>"
      ]
     },
     "metadata": {
      "needs_background": "light"
     },
     "output_type": "display_data"
    }
   ],
   "source": [
    "%matplotlib inline\n",
    "import numpy as np\n",
    "import matplotlib.pyplot as plt\n",
    "\n",
    "incomes = np.random.normal(100.0, 50.0, 10000)\n",
    "\n",
    "plt.hist(incomes, 50)\n",
    "plt.show()"
   ]
  },
  {
   "cell_type": "code",
   "execution_count": 5,
   "metadata": {},
   "outputs": [
    {
     "data": {
      "image/png": "[encoded data removed]",
      "text/plain": [
       "<Figure size 432x288 with 1 Axes>"
      ]
     },
     "metadata": {
      "needs_background": "light"
     },
     "output_type": "display_data"
    }
   ],
   "source": [
    "incomes = np.random.normal(100.0, 30.0, 10000)\n",
    "\n",
    "plt.hist(incomes, 50)\n",
    "plt.show()"
   ]
  },
  {
   "cell_type": "code",
   "execution_count": 6,
   "metadata": {
    "scrolled": true
   },
   "outputs": [
    {
     "data": {
      "image/png": "[encoded data removed]",
      "text/plain": [
       "<Figure size 432x288 with 1 Axes>"
      ]
     },
     "metadata": {
      "needs_background": "light"
     },
     "output_type": "display_data"
    }
   ],
   "source": [
    "incomes = np.random.normal(50.0, 50.0, 10000)\n",
    "\n",
    "plt.hist(incomes, 50)\n",
    "plt.show()"
   ]
  },
  {
   "cell_type": "code",
   "execution_count": 7,
   "metadata": {},
   "outputs": [
    {
     "data": {
      "text/plain": [
       "50.46969922821905"
      ]
     },
     "execution_count": 7,
     "metadata": {},
     "output_type": "execute_result"
    }
   ],
   "source": [
    "incomes.std()"
   ]
  },
  {
   "cell_type": "code",
   "execution_count": 8,
   "metadata": {},
   "outputs": [
    {
     "data": {
      "text/plain": [
       "2547.190540186895"
      ]
     },
     "execution_count": 8,
     "metadata": {},
     "output_type": "execute_result"
    }
   ],
   "source": [
    "incomes.var()"
   ]
  },
  {
   "cell_type": "code",
   "execution_count": 9,
   "metadata": {},
   "outputs": [
    {
     "data": {
      "image/png": "[encoded data removed]",
      "text/plain": [
       "<Figure size 432x288 with 1 Axes>"
      ]
     },
     "metadata": {
      "needs_background": "light"
     },
     "output_type": "display_data"
    }
   ],
   "source": [
    "incomes = np.random.normal(50.0, 30.0, 100)\n",
    "\n",
    "plt.hist(incomes, 50)\n",
    "plt.show()"
   ]
  },
  {
   "cell_type": "code",
   "execution_count": 11,
   "metadata": {},
   "outputs": [
    {
     "data": {
      "text/plain": [
       "30.554927406316"
      ]
     },
     "execution_count": 11,
     "metadata": {},
     "output_type": "execute_result"
    }
   ],
   "source": [
    "incomes.std()\n"
   ]
  },
  {
   "cell_type": "code",
   "execution_count": 12,
   "metadata": {},
   "outputs": [
    {
     "data": {
      "text/plain": [
       "933.6035888052406"
      ]
     },
     "execution_count": 12,
     "metadata": {},
     "output_type": "execute_result"
    }
   ],
   "source": [
    "incomes.var()"
   ]
  },
  {
   "cell_type": "code",
   "execution_count": 13,
   "metadata": {},
   "outputs": [
    {
     "data": {
      "image/png": "[encoded data removed]",
      "text/plain": [
       "<Figure size 432x288 with 1 Axes>"
      ]
     },
     "metadata": {
      "needs_background": "light"
     },
     "output_type": "display_data"
    }
   ],
   "source": [
    "incomes = np.random.normal(50.0, 30.0, 100)\n",
    "\n",
    "plt.hist(incomes, 20)\n",
    "plt.show()"
   ]
  },
  {
   "cell_type": "code",
   "execution_count": 14,
   "metadata": {},
   "outputs": [
    {
     "data": {
      "image/png": "[encoded data removed]",
      "text/plain": [
       "<Figure size 432x288 with 1 Axes>"
      ]
     },
     "metadata": {
      "needs_background": "light"
     },
     "output_type": "display_data"
    }
   ],
   "source": [
    "incomes = np.random.normal(50.0, 30.0, 100)\n",
    "\n",
    "plt.hist(incomes, 10)\n",
    "plt.show()"
   ]
  },
  {
   "cell_type": "code",
   "execution_count": null,
   "metadata": {},
   "outputs": [],
   "source": []
  }
 ],
 "metadata": {
  "kernelspec": {
   "display_name": "Python 3",
   "language": "python",
   "name": "python3"
  },
  "language_info": {
   "codemirror_mode": {
    "name": "ipython",
    "version": 3
   },
   "file_extension": ".py",
   "mimetype": "text/x-python",
   "name": "python",
   "nbconvert_exporter": "python",
   "pygments_lexer": "ipython3",
   "version": "3.7.3"
  }
 },
 "nbformat": 4,
 "nbformat_minor": 2
}
