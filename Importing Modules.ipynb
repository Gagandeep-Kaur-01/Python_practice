{
 "cells": [
  {
   "cell_type": "code",
   "execution_count": 1,
   "metadata": {},
   "outputs": [
    {
     "name": "stdout",
     "output_type": "stream",
     "text": [
      "[23.20895401 30.47686379 23.23854947 20.3593802  13.76706075 22.67688363\n",
      " 21.35839296 32.69243913 26.94377439 25.09880011]\n"
     ]
    }
   ],
   "source": [
    "import numpy as np\n",
    "\n",
    "A = np.random.normal(25.0, 5.0, 10)\n",
    "print (A)"
   ]
  },
  {
   "cell_type": "code",
   "execution_count": 4,
   "metadata": {},
   "outputs": [
    {
     "name": "stdout",
     "output_type": "stream",
     "text": [
      "[-0.66132795  1.65987559 -5.66528063  5.60360599  5.90954932  4.28834724\n",
      "  0.53428234 11.32042489  8.16135639  0.90831597]\n"
     ]
    }
   ],
   "source": [
    "import numpy as np \n",
    "\"\"\"\"\"To make use of the functions \n",
    "in a module, there is need to import the module \n",
    "with an import statement.\n",
    "An import statement is made up of the import keyword \n",
    "along with the name of the module. \n",
    "In a Python file, this will be declared at the top of the code, \n",
    "under any shebang lines or general comments.\"\"\"\n",
    "\n",
    "B = np.random.normal(2, 5, 10) \n",
    "\"\"\"np.random.normal ~ The function name\n",
    "3 parameters: (loc=, scale=, size=) \n",
    "loc is The mean of the distribution,\n",
    "scale is The standard deviation of the disribution\n",
    "size is The \"shape\" of the output Numpy array\"\"\"\n",
    "print (B)"
   ]
  },
  {
   "cell_type": "code",
   "execution_count": null,
   "metadata": {},
   "outputs": [],
   "source": [
    "\"\"\"\"\"NumPy is the most basic yet a powerful package for scientific computing and data manipulation in Python. \n",
    "It is an open source library available in Python. \n",
    "It helps as to do the mathematical and scientific operation and used extensively in data science. \n",
    "It allows us to work with multi-dimensional arrays and matrices.\n",
    "The NumPy random normal function enables you to create a NumPy array that contains normally distributed data.\n",
    "\"\"\""
   ]
  }
 ],
 "metadata": {
  "kernelspec": {
   "display_name": "Python 3",
   "language": "python",
   "name": "python3"
  },
  "language_info": {
   "codemirror_mode": {
    "name": "ipython",
    "version": 3
   },
   "file_extension": ".py",
   "mimetype": "text/x-python",
   "name": "python",
   "nbconvert_exporter": "python",
   "pygments_lexer": "ipython3",
   "version": "3.7.3"
  }
 },
 "nbformat": 4,
 "nbformat_minor": 2
}
